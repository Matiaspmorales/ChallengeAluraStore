{
  "nbformat": 4,
  "nbformat_minor": 0,
  "metadata": {
    "colab": {
      "provenance": []
    },
    "kernelspec": {
      "name": "python3",
      "display_name": "Python 3"
    },
    "language_info": {
      "name": "python"
    }
  },
  "cells": [
    {
      "cell_type": "markdown",
      "source": [
        "### Importación de datos\n",
        "\n"
      ],
      "metadata": {
        "id": "RhEdWd9YUR6H"
      }
    },
    {
      "cell_type": "code",
      "execution_count": 180,
      "metadata": {
        "colab": {
          "base_uri": "https://localhost:8080/",
          "height": 773
        },
        "id": "T3EvaeQ_INIL",
        "outputId": "3f4cc7cb-132a-4e8f-8178-67bb38477869"
      },
      "outputs": [
        {
          "output_type": "execute_result",
          "data": {
            "text/plain": [
              "             Producto   Categoría del Producto    Precio  Costo de envío  \\\n",
              "0   Asistente virtual             Electrónicos  164300.0          6900.0   \n",
              "1     Mesa de comedor                  Muebles  192300.0          8400.0   \n",
              "2       Juego de mesa                 Juguetes  209600.0         15900.0   \n",
              "3          Microondas        Electrodomésticos  757500.0         41000.0   \n",
              "4    Silla de oficina                  Muebles  335200.0         20200.0   \n",
              "..                ...                      ...       ...             ...   \n",
              "95         Microondas        Electrodomésticos  722600.0         36700.0   \n",
              "96    Olla de presión  Artículos para el hogar   78300.0          4600.0   \n",
              "97    Mesa de comedor                  Muebles  279300.0         15300.0   \n",
              "98          Bicicleta     Deportes y diversión  475100.0         23500.0   \n",
              "99    Olla de presión  Artículos para el hogar   72600.0          2100.0   \n",
              "\n",
              "   Fecha de Compra         Vendedor Lugar de Compra  Calificación  \\\n",
              "0       16/01/2021      Pedro Gomez          Bogotá             4   \n",
              "1       18/05/2022  Beatriz Morales        Medellín             1   \n",
              "2       15/03/2021   Juan Fernandez       Cartagena             1   \n",
              "3       03/05/2022   Juan Fernandez            Cali             4   \n",
              "4       07/11/2020    Maria Alfonso        Medellín             5   \n",
              "..             ...              ...             ...           ...   \n",
              "95      30/09/2021  Ángel Rodriguez          Cúcuta             5   \n",
              "96      27/09/2022  Mariana Herrera            Cali             5   \n",
              "97      03/05/2022   Santiago Silva          Bogotá             2   \n",
              "98      13/12/2020   Juan Fernandez        Medellín             5   \n",
              "99      10/02/2022    Camila Rivera        Medellín             5   \n",
              "\n",
              "        Método de pago  Cantidad de cuotas       lat       lon  \n",
              "0   Tarjeta de crédito                   8   4.60971 -74.08175  \n",
              "1   Tarjeta de crédito                   4   6.25184 -75.56359  \n",
              "2   Tarjeta de crédito                   1  10.39972 -75.51444  \n",
              "3                Nequi                   1   3.43722 -76.52250  \n",
              "4                Nequi                   1   6.25184 -75.56359  \n",
              "..                 ...                 ...       ...       ...  \n",
              "95               Nequi                   1   7.89391 -72.50782  \n",
              "96  Tarjeta de crédito                  10   3.43722 -76.52250  \n",
              "97  Tarjeta de crédito                   6   4.60971 -74.08175  \n",
              "98  Tarjeta de crédito                   4   6.25184 -75.56359  \n",
              "99  Tarjeta de crédito                   1   6.25184 -75.56359  \n",
              "\n",
              "[100 rows x 12 columns]"
            ],
            "text/html": [
              "\n",
              "  <div id=\"df-c318e949-e55c-4789-99a6-01825dfd6022\" class=\"colab-df-container\">\n",
              "    <div>\n",
              "<style scoped>\n",
              "    .dataframe tbody tr th:only-of-type {\n",
              "        vertical-align: middle;\n",
              "    }\n",
              "\n",
              "    .dataframe tbody tr th {\n",
              "        vertical-align: top;\n",
              "    }\n",
              "\n",
              "    .dataframe thead th {\n",
              "        text-align: right;\n",
              "    }\n",
              "</style>\n",
              "<table border=\"1\" class=\"dataframe\">\n",
              "  <thead>\n",
              "    <tr style=\"text-align: right;\">\n",
              "      <th></th>\n",
              "      <th>Producto</th>\n",
              "      <th>Categoría del Producto</th>\n",
              "      <th>Precio</th>\n",
              "      <th>Costo de envío</th>\n",
              "      <th>Fecha de Compra</th>\n",
              "      <th>Vendedor</th>\n",
              "      <th>Lugar de Compra</th>\n",
              "      <th>Calificación</th>\n",
              "      <th>Método de pago</th>\n",
              "      <th>Cantidad de cuotas</th>\n",
              "      <th>lat</th>\n",
              "      <th>lon</th>\n",
              "    </tr>\n",
              "  </thead>\n",
              "  <tbody>\n",
              "    <tr>\n",
              "      <th>0</th>\n",
              "      <td>Asistente virtual</td>\n",
              "      <td>Electrónicos</td>\n",
              "      <td>164300.0</td>\n",
              "      <td>6900.0</td>\n",
              "      <td>16/01/2021</td>\n",
              "      <td>Pedro Gomez</td>\n",
              "      <td>Bogotá</td>\n",
              "      <td>4</td>\n",
              "      <td>Tarjeta de crédito</td>\n",
              "      <td>8</td>\n",
              "      <td>4.60971</td>\n",
              "      <td>-74.08175</td>\n",
              "    </tr>\n",
              "    <tr>\n",
              "      <th>1</th>\n",
              "      <td>Mesa de comedor</td>\n",
              "      <td>Muebles</td>\n",
              "      <td>192300.0</td>\n",
              "      <td>8400.0</td>\n",
              "      <td>18/05/2022</td>\n",
              "      <td>Beatriz Morales</td>\n",
              "      <td>Medellín</td>\n",
              "      <td>1</td>\n",
              "      <td>Tarjeta de crédito</td>\n",
              "      <td>4</td>\n",
              "      <td>6.25184</td>\n",
              "      <td>-75.56359</td>\n",
              "    </tr>\n",
              "    <tr>\n",
              "      <th>2</th>\n",
              "      <td>Juego de mesa</td>\n",
              "      <td>Juguetes</td>\n",
              "      <td>209600.0</td>\n",
              "      <td>15900.0</td>\n",
              "      <td>15/03/2021</td>\n",
              "      <td>Juan Fernandez</td>\n",
              "      <td>Cartagena</td>\n",
              "      <td>1</td>\n",
              "      <td>Tarjeta de crédito</td>\n",
              "      <td>1</td>\n",
              "      <td>10.39972</td>\n",
              "      <td>-75.51444</td>\n",
              "    </tr>\n",
              "    <tr>\n",
              "      <th>3</th>\n",
              "      <td>Microondas</td>\n",
              "      <td>Electrodomésticos</td>\n",
              "      <td>757500.0</td>\n",
              "      <td>41000.0</td>\n",
              "      <td>03/05/2022</td>\n",
              "      <td>Juan Fernandez</td>\n",
              "      <td>Cali</td>\n",
              "      <td>4</td>\n",
              "      <td>Nequi</td>\n",
              "      <td>1</td>\n",
              "      <td>3.43722</td>\n",
              "      <td>-76.52250</td>\n",
              "    </tr>\n",
              "    <tr>\n",
              "      <th>4</th>\n",
              "      <td>Silla de oficina</td>\n",
              "      <td>Muebles</td>\n",
              "      <td>335200.0</td>\n",
              "      <td>20200.0</td>\n",
              "      <td>07/11/2020</td>\n",
              "      <td>Maria Alfonso</td>\n",
              "      <td>Medellín</td>\n",
              "      <td>5</td>\n",
              "      <td>Nequi</td>\n",
              "      <td>1</td>\n",
              "      <td>6.25184</td>\n",
              "      <td>-75.56359</td>\n",
              "    </tr>\n",
              "    <tr>\n",
              "      <th>...</th>\n",
              "      <td>...</td>\n",
              "      <td>...</td>\n",
              "      <td>...</td>\n",
              "      <td>...</td>\n",
              "      <td>...</td>\n",
              "      <td>...</td>\n",
              "      <td>...</td>\n",
              "      <td>...</td>\n",
              "      <td>...</td>\n",
              "      <td>...</td>\n",
              "      <td>...</td>\n",
              "      <td>...</td>\n",
              "    </tr>\n",
              "    <tr>\n",
              "      <th>95</th>\n",
              "      <td>Microondas</td>\n",
              "      <td>Electrodomésticos</td>\n",
              "      <td>722600.0</td>\n",
              "      <td>36700.0</td>\n",
              "      <td>30/09/2021</td>\n",
              "      <td>Ángel Rodriguez</td>\n",
              "      <td>Cúcuta</td>\n",
              "      <td>5</td>\n",
              "      <td>Nequi</td>\n",
              "      <td>1</td>\n",
              "      <td>7.89391</td>\n",
              "      <td>-72.50782</td>\n",
              "    </tr>\n",
              "    <tr>\n",
              "      <th>96</th>\n",
              "      <td>Olla de presión</td>\n",
              "      <td>Artículos para el hogar</td>\n",
              "      <td>78300.0</td>\n",
              "      <td>4600.0</td>\n",
              "      <td>27/09/2022</td>\n",
              "      <td>Mariana Herrera</td>\n",
              "      <td>Cali</td>\n",
              "      <td>5</td>\n",
              "      <td>Tarjeta de crédito</td>\n",
              "      <td>10</td>\n",
              "      <td>3.43722</td>\n",
              "      <td>-76.52250</td>\n",
              "    </tr>\n",
              "    <tr>\n",
              "      <th>97</th>\n",
              "      <td>Mesa de comedor</td>\n",
              "      <td>Muebles</td>\n",
              "      <td>279300.0</td>\n",
              "      <td>15300.0</td>\n",
              "      <td>03/05/2022</td>\n",
              "      <td>Santiago Silva</td>\n",
              "      <td>Bogotá</td>\n",
              "      <td>2</td>\n",
              "      <td>Tarjeta de crédito</td>\n",
              "      <td>6</td>\n",
              "      <td>4.60971</td>\n",
              "      <td>-74.08175</td>\n",
              "    </tr>\n",
              "    <tr>\n",
              "      <th>98</th>\n",
              "      <td>Bicicleta</td>\n",
              "      <td>Deportes y diversión</td>\n",
              "      <td>475100.0</td>\n",
              "      <td>23500.0</td>\n",
              "      <td>13/12/2020</td>\n",
              "      <td>Juan Fernandez</td>\n",
              "      <td>Medellín</td>\n",
              "      <td>5</td>\n",
              "      <td>Tarjeta de crédito</td>\n",
              "      <td>4</td>\n",
              "      <td>6.25184</td>\n",
              "      <td>-75.56359</td>\n",
              "    </tr>\n",
              "    <tr>\n",
              "      <th>99</th>\n",
              "      <td>Olla de presión</td>\n",
              "      <td>Artículos para el hogar</td>\n",
              "      <td>72600.0</td>\n",
              "      <td>2100.0</td>\n",
              "      <td>10/02/2022</td>\n",
              "      <td>Camila Rivera</td>\n",
              "      <td>Medellín</td>\n",
              "      <td>5</td>\n",
              "      <td>Tarjeta de crédito</td>\n",
              "      <td>1</td>\n",
              "      <td>6.25184</td>\n",
              "      <td>-75.56359</td>\n",
              "    </tr>\n",
              "  </tbody>\n",
              "</table>\n",
              "<p>100 rows × 12 columns</p>\n",
              "</div>\n",
              "    <div class=\"colab-df-buttons\">\n",
              "\n",
              "  <div class=\"colab-df-container\">\n",
              "    <button class=\"colab-df-convert\" onclick=\"convertToInteractive('df-c318e949-e55c-4789-99a6-01825dfd6022')\"\n",
              "            title=\"Convert this dataframe to an interactive table.\"\n",
              "            style=\"display:none;\">\n",
              "\n",
              "  <svg xmlns=\"http://www.w3.org/2000/svg\" height=\"24px\" viewBox=\"0 -960 960 960\">\n",
              "    <path d=\"M120-120v-720h720v720H120Zm60-500h600v-160H180v160Zm220 220h160v-160H400v160Zm0 220h160v-160H400v160ZM180-400h160v-160H180v160Zm440 0h160v-160H620v160ZM180-180h160v-160H180v160Zm440 0h160v-160H620v160Z\"/>\n",
              "  </svg>\n",
              "    </button>\n",
              "\n",
              "  <style>\n",
              "    .colab-df-container {\n",
              "      display:flex;\n",
              "      gap: 12px;\n",
              "    }\n",
              "\n",
              "    .colab-df-convert {\n",
              "      background-color: #E8F0FE;\n",
              "      border: none;\n",
              "      border-radius: 50%;\n",
              "      cursor: pointer;\n",
              "      display: none;\n",
              "      fill: #1967D2;\n",
              "      height: 32px;\n",
              "      padding: 0 0 0 0;\n",
              "      width: 32px;\n",
              "    }\n",
              "\n",
              "    .colab-df-convert:hover {\n",
              "      background-color: #E2EBFA;\n",
              "      box-shadow: 0px 1px 2px rgba(60, 64, 67, 0.3), 0px 1px 3px 1px rgba(60, 64, 67, 0.15);\n",
              "      fill: #174EA6;\n",
              "    }\n",
              "\n",
              "    .colab-df-buttons div {\n",
              "      margin-bottom: 4px;\n",
              "    }\n",
              "\n",
              "    [theme=dark] .colab-df-convert {\n",
              "      background-color: #3B4455;\n",
              "      fill: #D2E3FC;\n",
              "    }\n",
              "\n",
              "    [theme=dark] .colab-df-convert:hover {\n",
              "      background-color: #434B5C;\n",
              "      box-shadow: 0px 1px 3px 1px rgba(0, 0, 0, 0.15);\n",
              "      filter: drop-shadow(0px 1px 2px rgba(0, 0, 0, 0.3));\n",
              "      fill: #FFFFFF;\n",
              "    }\n",
              "  </style>\n",
              "\n",
              "    <script>\n",
              "      const buttonEl =\n",
              "        document.querySelector('#df-c318e949-e55c-4789-99a6-01825dfd6022 button.colab-df-convert');\n",
              "      buttonEl.style.display =\n",
              "        google.colab.kernel.accessAllowed ? 'block' : 'none';\n",
              "\n",
              "      async function convertToInteractive(key) {\n",
              "        const element = document.querySelector('#df-c318e949-e55c-4789-99a6-01825dfd6022');\n",
              "        const dataTable =\n",
              "          await google.colab.kernel.invokeFunction('convertToInteractive',\n",
              "                                                    [key], {});\n",
              "        if (!dataTable) return;\n",
              "\n",
              "        const docLinkHtml = 'Like what you see? Visit the ' +\n",
              "          '<a target=\"_blank\" href=https://colab.research.google.com/notebooks/data_table.ipynb>data table notebook</a>'\n",
              "          + ' to learn more about interactive tables.';\n",
              "        element.innerHTML = '';\n",
              "        dataTable['output_type'] = 'display_data';\n",
              "        await google.colab.output.renderOutput(dataTable, element);\n",
              "        const docLink = document.createElement('div');\n",
              "        docLink.innerHTML = docLinkHtml;\n",
              "        element.appendChild(docLink);\n",
              "      }\n",
              "    </script>\n",
              "  </div>\n",
              "\n",
              "\n",
              "<div id=\"df-9e92dc7b-c43b-42af-86be-911047e24b18\">\n",
              "  <button class=\"colab-df-quickchart\" onclick=\"quickchart('df-9e92dc7b-c43b-42af-86be-911047e24b18')\"\n",
              "            title=\"Suggest charts\"\n",
              "            style=\"display:none;\">\n",
              "\n",
              "<svg xmlns=\"http://www.w3.org/2000/svg\" height=\"24px\"viewBox=\"0 0 24 24\"\n",
              "     width=\"24px\">\n",
              "    <g>\n",
              "        <path d=\"M19 3H5c-1.1 0-2 .9-2 2v14c0 1.1.9 2 2 2h14c1.1 0 2-.9 2-2V5c0-1.1-.9-2-2-2zM9 17H7v-7h2v7zm4 0h-2V7h2v10zm4 0h-2v-4h2v4z\"/>\n",
              "    </g>\n",
              "</svg>\n",
              "  </button>\n",
              "\n",
              "<style>\n",
              "  .colab-df-quickchart {\n",
              "      --bg-color: #E8F0FE;\n",
              "      --fill-color: #1967D2;\n",
              "      --hover-bg-color: #E2EBFA;\n",
              "      --hover-fill-color: #174EA6;\n",
              "      --disabled-fill-color: #AAA;\n",
              "      --disabled-bg-color: #DDD;\n",
              "  }\n",
              "\n",
              "  [theme=dark] .colab-df-quickchart {\n",
              "      --bg-color: #3B4455;\n",
              "      --fill-color: #D2E3FC;\n",
              "      --hover-bg-color: #434B5C;\n",
              "      --hover-fill-color: #FFFFFF;\n",
              "      --disabled-bg-color: #3B4455;\n",
              "      --disabled-fill-color: #666;\n",
              "  }\n",
              "\n",
              "  .colab-df-quickchart {\n",
              "    background-color: var(--bg-color);\n",
              "    border: none;\n",
              "    border-radius: 50%;\n",
              "    cursor: pointer;\n",
              "    display: none;\n",
              "    fill: var(--fill-color);\n",
              "    height: 32px;\n",
              "    padding: 0;\n",
              "    width: 32px;\n",
              "  }\n",
              "\n",
              "  .colab-df-quickchart:hover {\n",
              "    background-color: var(--hover-bg-color);\n",
              "    box-shadow: 0 1px 2px rgba(60, 64, 67, 0.3), 0 1px 3px 1px rgba(60, 64, 67, 0.15);\n",
              "    fill: var(--button-hover-fill-color);\n",
              "  }\n",
              "\n",
              "  .colab-df-quickchart-complete:disabled,\n",
              "  .colab-df-quickchart-complete:disabled:hover {\n",
              "    background-color: var(--disabled-bg-color);\n",
              "    fill: var(--disabled-fill-color);\n",
              "    box-shadow: none;\n",
              "  }\n",
              "\n",
              "  .colab-df-spinner {\n",
              "    border: 2px solid var(--fill-color);\n",
              "    border-color: transparent;\n",
              "    border-bottom-color: var(--fill-color);\n",
              "    animation:\n",
              "      spin 1s steps(1) infinite;\n",
              "  }\n",
              "\n",
              "  @keyframes spin {\n",
              "    0% {\n",
              "      border-color: transparent;\n",
              "      border-bottom-color: var(--fill-color);\n",
              "      border-left-color: var(--fill-color);\n",
              "    }\n",
              "    20% {\n",
              "      border-color: transparent;\n",
              "      border-left-color: var(--fill-color);\n",
              "      border-top-color: var(--fill-color);\n",
              "    }\n",
              "    30% {\n",
              "      border-color: transparent;\n",
              "      border-left-color: var(--fill-color);\n",
              "      border-top-color: var(--fill-color);\n",
              "      border-right-color: var(--fill-color);\n",
              "    }\n",
              "    40% {\n",
              "      border-color: transparent;\n",
              "      border-right-color: var(--fill-color);\n",
              "      border-top-color: var(--fill-color);\n",
              "    }\n",
              "    60% {\n",
              "      border-color: transparent;\n",
              "      border-right-color: var(--fill-color);\n",
              "    }\n",
              "    80% {\n",
              "      border-color: transparent;\n",
              "      border-right-color: var(--fill-color);\n",
              "      border-bottom-color: var(--fill-color);\n",
              "    }\n",
              "    90% {\n",
              "      border-color: transparent;\n",
              "      border-bottom-color: var(--fill-color);\n",
              "    }\n",
              "  }\n",
              "</style>\n",
              "\n",
              "  <script>\n",
              "    async function quickchart(key) {\n",
              "      const quickchartButtonEl =\n",
              "        document.querySelector('#' + key + ' button');\n",
              "      quickchartButtonEl.disabled = true;  // To prevent multiple clicks.\n",
              "      quickchartButtonEl.classList.add('colab-df-spinner');\n",
              "      try {\n",
              "        const charts = await google.colab.kernel.invokeFunction(\n",
              "            'suggestCharts', [key], {});\n",
              "      } catch (error) {\n",
              "        console.error('Error during call to suggestCharts:', error);\n",
              "      }\n",
              "      quickchartButtonEl.classList.remove('colab-df-spinner');\n",
              "      quickchartButtonEl.classList.add('colab-df-quickchart-complete');\n",
              "    }\n",
              "    (() => {\n",
              "      let quickchartButtonEl =\n",
              "        document.querySelector('#df-9e92dc7b-c43b-42af-86be-911047e24b18 button');\n",
              "      quickchartButtonEl.style.display =\n",
              "        google.colab.kernel.accessAllowed ? 'block' : 'none';\n",
              "    })();\n",
              "  </script>\n",
              "</div>\n",
              "\n",
              "    </div>\n",
              "  </div>\n"
            ],
            "application/vnd.google.colaboratory.intrinsic+json": {
              "type": "dataframe",
              "variable_name": "tienda1",
              "summary": "{\n  \"name\": \"tienda1\",\n  \"rows\": 2359,\n  \"fields\": [\n    {\n      \"column\": \"Producto\",\n      \"properties\": {\n        \"dtype\": \"category\",\n        \"num_unique_values\": 51,\n        \"samples\": [\n          \"Guitarra ac\\u00fastica\",\n          \"Bal\\u00f3n de baloncesto\",\n          \"Smartwatch\"\n        ],\n        \"semantic_type\": \"\",\n        \"description\": \"\"\n      }\n    },\n    {\n      \"column\": \"Categor\\u00eda del Producto\",\n      \"properties\": {\n        \"dtype\": \"category\",\n        \"num_unique_values\": 8,\n        \"samples\": [\n          \"Muebles\",\n          \"Deportes y diversi\\u00f3n\",\n          \"Electr\\u00f3nicos\"\n        ],\n        \"semantic_type\": \"\",\n        \"description\": \"\"\n      }\n    },\n    {\n      \"column\": \"Precio\",\n      \"properties\": {\n        \"dtype\": \"number\",\n        \"std\": 614686.7653873172,\n        \"min\": 7600.0,\n        \"max\": 2977000.0,\n        \"num_unique_values\": 1937,\n        \"samples\": [\n          2499400.0,\n          14800.0,\n          80500.0\n        ],\n        \"semantic_type\": \"\",\n        \"description\": \"\"\n      }\n    },\n    {\n      \"column\": \"Costo de env\\u00edo\",\n      \"properties\": {\n        \"dtype\": \"number\",\n        \"std\": 32860.0017825605,\n        \"min\": 0.0,\n        \"max\": 160800.0,\n        \"num_unique_values\": 753,\n        \"samples\": [\n          117800.0,\n          54700.0,\n          45600.0\n        ],\n        \"semantic_type\": \"\",\n        \"description\": \"\"\n      }\n    },\n    {\n      \"column\": \"Fecha de Compra\",\n      \"properties\": {\n        \"dtype\": \"object\",\n        \"num_unique_values\": 1018,\n        \"samples\": [\n          \"15/09/2022\",\n          \"03/06/2020\",\n          \"06/11/2021\"\n        ],\n        \"semantic_type\": \"\",\n        \"description\": \"\"\n      }\n    },\n    {\n      \"column\": \"Vendedor\",\n      \"properties\": {\n        \"dtype\": \"category\",\n        \"num_unique_values\": 14,\n        \"samples\": [\n          \"Juliana Costa\",\n          \"Mariana Herrera\",\n          \"Pedro Gomez\"\n        ],\n        \"semantic_type\": \"\",\n        \"description\": \"\"\n      }\n    },\n    {\n      \"column\": \"Lugar de Compra\",\n      \"properties\": {\n        \"dtype\": \"category\",\n        \"num_unique_values\": 19,\n        \"samples\": [\n          \"Bogot\\u00e1\",\n          \"Pereira\",\n          \"Neiva\"\n        ],\n        \"semantic_type\": \"\",\n        \"description\": \"\"\n      }\n    },\n    {\n      \"column\": \"Calificaci\\u00f3n\",\n      \"properties\": {\n        \"dtype\": \"number\",\n        \"std\": 1,\n        \"min\": 1,\n        \"max\": 5,\n        \"num_unique_values\": 5,\n        \"samples\": [\n          1,\n          2,\n          5\n        ],\n        \"semantic_type\": \"\",\n        \"description\": \"\"\n      }\n    },\n    {\n      \"column\": \"M\\u00e9todo de pago\",\n      \"properties\": {\n        \"dtype\": \"category\",\n        \"num_unique_values\": 4,\n        \"samples\": [\n          \"Nequi\",\n          \"Tarjeta de d\\u00e9bito\",\n          \"Tarjeta de cr\\u00e9dito\"\n        ],\n        \"semantic_type\": \"\",\n        \"description\": \"\"\n      }\n    },\n    {\n      \"column\": \"Cantidad de cuotas\",\n      \"properties\": {\n        \"dtype\": \"number\",\n        \"std\": 2,\n        \"min\": 1,\n        \"max\": 24,\n        \"num_unique_values\": 15,\n        \"samples\": [\n          7,\n          14,\n          8\n        ],\n        \"semantic_type\": \"\",\n        \"description\": \"\"\n      }\n    },\n    {\n      \"column\": \"lat\",\n      \"properties\": {\n        \"dtype\": \"number\",\n        \"std\": 2.2874452492678627,\n        \"min\": -4.21528,\n        \"max\": 11.54444,\n        \"num_unique_values\": 19,\n        \"samples\": [\n          4.60971,\n          4.81333,\n          2.9273\n        ],\n        \"semantic_type\": \"\",\n        \"description\": \"\"\n      }\n    },\n    {\n      \"column\": \"lon\",\n      \"properties\": {\n        \"dtype\": \"number\",\n        \"std\": 1.2178272727088486,\n        \"min\": -77.28111,\n        \"max\": -67.9239,\n        \"num_unique_values\": 19,\n        \"samples\": [\n          -74.08175,\n          -75.69611,\n          -75.28189\n        ],\n        \"semantic_type\": \"\",\n        \"description\": \"\"\n      }\n    }\n  ]\n}"
            }
          },
          "metadata": {},
          "execution_count": 180
        }
      ],
      "source": [
        "import pandas as pd\n",
        "import matplotlib.pyplot as plt\n",
        "import numpy as np\n",
        "url = \"https://raw.githubusercontent.com/alura-es-cursos/challenge1-data-science-latam/refs/heads/main/base-de-datos-challenge1-latam/tienda_1%20.csv\"\n",
        "url2 = \"https://raw.githubusercontent.com/alura-es-cursos/challenge1-data-science-latam/refs/heads/main/base-de-datos-challenge1-latam/tienda_2.csv\"\n",
        "url3 = \"https://raw.githubusercontent.com/alura-es-cursos/challenge1-data-science-latam/refs/heads/main/base-de-datos-challenge1-latam/tienda_3.csv\"\n",
        "url4 = \"https://raw.githubusercontent.com/alura-es-cursos/challenge1-data-science-latam/refs/heads/main/base-de-datos-challenge1-latam/tienda_4.csv\"\n",
        "\n",
        "tienda1 = pd.read_csv(url)\n",
        "tienda2 = pd.read_csv(url2)\n",
        "tienda3 = pd.read_csv(url3)\n",
        "tienda4 = pd.read_csv(url4)\n",
        "\n",
        "tienda1.head(100)\n"
      ]
    },
    {
      "cell_type": "markdown",
      "source": [
        "#1. Análisis de facturación\n",
        "\n"
      ],
      "metadata": {
        "id": "X62IW3KFUIYm"
      }
    },
    {
      "cell_type": "code",
      "source": [
        "facturacion_tienda1 = tienda1['Precio'].sum()\n",
        "facturacion_tienda2 = tienda2['Precio'].sum()\n",
        "facturacion_tienda3 = tienda3['Precio'].sum()\n",
        "facturacion_tienda4 = tienda4['Precio'].sum()\n",
        "\n",
        "facturaciones = {\n",
        "    'Tienda 1': facturacion_tienda1,\n",
        "    'Tienda 2': facturacion_tienda2,\n",
        "    'Tienda 3': facturacion_tienda3,\n",
        "    'Tienda 4': facturacion_tienda4\n",
        "}\n",
        "mayor_facturacion = max(facturaciones, key = facturaciones.get)\n",
        "valor_max = facturaciones[mayor_facturacion]\n",
        "print(f'La tienda con mayor facturacíon es: {mayor_facturacion} \\ncon un total de: {valor_max}')\n",
        "facturacion_tienda1, facturacion_tienda2, facturacion_tienda3, facturacion_tienda4"
      ],
      "metadata": {
        "id": "xykobSftV64I",
        "colab": {
          "base_uri": "https://localhost:8080/"
        },
        "outputId": "a3880332-3178-4b6d-8541-b3dd591b1e3a"
      },
      "execution_count": 192,
      "outputs": [
        {
          "output_type": "stream",
          "name": "stdout",
          "text": [
            "La tienda con mayor facturacíon es: Tienda 1 \n",
            "con un total de: 1150880400.0\n"
          ]
        },
        {
          "output_type": "execute_result",
          "data": {
            "text/plain": [
              "(np.float64(1150880400.0),\n",
              " np.float64(1116343500.0),\n",
              " np.float64(1098019600.0),\n",
              " np.float64(1038375700.0))"
            ]
          },
          "metadata": {},
          "execution_count": 192
        }
      ]
    },
    {
      "cell_type": "code",
      "source": [
        "plt.figure(figsize=(8, 8))\n",
        "plt.pie(facturaciones.values(), labels=facturaciones.keys(), autopct='%1.1f%%', startangle=90, colors=['#66b3ff', '#99ff99', '#ffcc99', '#ff6666'])\n",
        "\n",
        "# Título\n",
        "plt.title('Facturación por tienda')\n",
        "\n",
        "# Mostrar el gráfico\n",
        "plt.axis('equal')  # Asegura que el gráfico sea circular\n",
        "plt.show()"
      ],
      "metadata": {
        "colab": {
          "base_uri": "https://localhost:8080/",
          "height": 675
        },
        "id": "px5_5nWOqYPl",
        "outputId": "9d115e7b-ab67-4fe3-f1a5-f68e49d07c5a"
      },
      "execution_count": 184,
      "outputs": [
        {
          "output_type": "display_data",
          "data": {
            "text/plain": [
              "<Figure size 800x800 with 1 Axes>"
            ],
            "image/png": "[encoded data removed]"
          },
          "metadata": {}
        }
      ]
    },
    {
      "cell_type": "markdown",
      "source": [
        "# 2. Ventas por categoría"
      ],
      "metadata": {
        "id": "2V_vcAPzWZmR"
      }
    },
    {
      "cell_type": "code",
      "source": [
        "ventas_por_categoria_tienda1 = tienda1.groupby('Categoría del Producto')['Precio'].sum()\n",
        "ventas_por_categoria_tienda2 = tienda2.groupby('Categoría del Producto')['Precio'].sum()\n",
        "ventas_por_categoria_tienda3 = tienda3.groupby('Categoría del Producto')['Precio'].sum()\n",
        "ventas_por_categoria_tienda4 = tienda4.groupby('Categoría del Producto')['Precio'].sum()"
      ],
      "metadata": {
        "id": "A34YupIuYhfF"
      },
      "execution_count": 115,
      "outputs": []
    },
    {
      "cell_type": "code",
      "source": [
        "print(f'Ventas por categoría de cada tienda: \\nTienda 1: {ventas_por_categoria_tienda1}\\n \\nTienda 2: {ventas_por_categoria_tienda2}\\n \\nTienda 3: {ventas_por_categoria_tienda3}\\n \\nTienda 4: {ventas_por_categoria_tienda4}')"
      ],
      "metadata": {
        "colab": {
          "base_uri": "https://localhost:8080/"
        },
        "id": "Foe8R3S8pyWd",
        "outputId": "3368cd4f-5906-482f-b82a-b28636c4d255"
      },
      "execution_count": 116,
      "outputs": [
        {
          "output_type": "stream",
          "name": "stdout",
          "text": [
            "Ventas por categoría de cada tienda: \n",
            "Tienda 1: Categoría del Producto\n",
            "Artículos para el hogar     12698400.0\n",
            "Deportes y diversión        39290000.0\n",
            "Electrodomésticos          363685200.0\n",
            "Electrónicos               429493500.0\n",
            "Instrumentos musicales      91299000.0\n",
            "Juguetes                    17995700.0\n",
            "Libros                       8784900.0\n",
            "Muebles                    187633700.0\n",
            "Name: Precio, dtype: float64\n",
            " \n",
            "Tienda 2: Categoría del Producto\n",
            "Artículos para el hogar     14746900.0\n",
            "Deportes y diversión        34744500.0\n",
            "Electrodomésticos          348567800.0\n",
            "Electrónicos               410831100.0\n",
            "Instrumentos musicales     104990300.0\n",
            "Juguetes                    15945400.0\n",
            "Libros                      10091200.0\n",
            "Muebles                    176426300.0\n",
            "Name: Precio, dtype: float64\n",
            " \n",
            "Tienda 3: Categoría del Producto\n",
            "Artículos para el hogar     15060000.0\n",
            "Deportes y diversión        35593100.0\n",
            "Electrodomésticos          329237900.0\n",
            "Electrónicos               410775800.0\n",
            "Instrumentos musicales      77380900.0\n",
            "Juguetes                    19401100.0\n",
            "Libros                       9498700.0\n",
            "Muebles                    201072100.0\n",
            "Name: Precio, dtype: float64\n",
            " \n",
            "Tienda 4: Categoría del Producto\n",
            "Artículos para el hogar     15074500.0\n",
            "Deportes y diversión        33350100.0\n",
            "Electrodomésticos          283260200.0\n",
            "Electrónicos               409476100.0\n",
            "Instrumentos musicales      75102400.0\n",
            "Juguetes                    20262200.0\n",
            "Libros                       9321300.0\n",
            "Muebles                    192528900.0\n",
            "Name: Precio, dtype: float64\n"
          ]
        }
      ]
    },
    {
      "cell_type": "code",
      "source": [
        "categoria_max_tienda1 = ventas_por_categoria_tienda1.idxmax()\n",
        "categoria_max_tienda2 = ventas_por_categoria_tienda2.idxmax()\n",
        "categoria_max_tienda3 = ventas_por_categoria_tienda3.idxmax()\n",
        "categoria_max_tienda4 = ventas_por_categoria_tienda4.idxmax()\n",
        "\n",
        "print(f\"La categoría más vendida en Tienda 1 es: {categoria_max_tienda1}\")\n",
        "print(f\"La categoría más vendida en Tienda 2 es: {categoria_max_tienda2}\")\n",
        "print(f\"La categoría más vendida en Tienda 3 es: {categoria_max_tienda3}\")\n",
        "print(f\"La categoría más vendida en Tienda 4 es: {categoria_max_tienda4}\")\n"
      ],
      "metadata": {
        "id": "yZR6cOjXYSk1",
        "colab": {
          "base_uri": "https://localhost:8080/"
        },
        "outputId": "b2e76257-58dc-4dcc-9018-3e731be7a9ca"
      },
      "execution_count": 117,
      "outputs": [
        {
          "output_type": "stream",
          "name": "stdout",
          "text": [
            "La categoría más vendida en Tienda 1 es: Electrónicos\n",
            "La categoría más vendida en Tienda 2 es: Electrónicos\n",
            "La categoría más vendida en Tienda 3 es: Electrónicos\n",
            "La categoría más vendida en Tienda 4 es: Electrónicos\n"
          ]
        }
      ]
    },
    {
      "cell_type": "code",
      "source": [
        "monto_max_tienda1 = ventas_por_categoria_tienda1.max()\n",
        "monto_max_tienda2 = ventas_por_categoria_tienda2.max()\n",
        "monto_max_tienda3 = ventas_por_categoria_tienda3.max()\n",
        "monto_max_tienda4 = ventas_por_categoria_tienda4.max()\n"
      ],
      "metadata": {
        "id": "vX1l6Cd1q8q9"
      },
      "execution_count": 118,
      "outputs": []
    },
    {
      "cell_type": "code",
      "source": [
        "tiendas = ['Tienda 1', 'Tienda 2', 'Tienda 3', 'Tienda 4']\n",
        "categorias = [\n",
        "    categoria_max_tienda1,\n",
        "    categoria_max_tienda2,\n",
        "    categoria_max_tienda3,\n",
        "    categoria_max_tienda4\n",
        "]\n",
        "montos = [\n",
        "    ventas_por_categoria_tienda1.max(),\n",
        "    ventas_por_categoria_tienda2.max(),\n",
        "    ventas_por_categoria_tienda3.max(),\n",
        "    ventas_por_categoria_tienda4.max()\n",
        "]"
      ],
      "metadata": {
        "id": "o5V2rCQ5rF85"
      },
      "execution_count": 124,
      "outputs": []
    },
    {
      "cell_type": "code",
      "source": [
        "plt.figure(figsize=(10, 6))\n",
        "plt.bar(tiendas, montos, color='skyblue')\n",
        "plt.xlabel('Tiendas')\n",
        "plt.ylabel('Facturación ($)')\n",
        "plt.title('Categoría más vendida por tienda')\n",
        "\n",
        "# Agregar el nombre de la categoría y monto sobre cada barra\n",
        "for i in range(len(tiendas)):\n",
        "    plt.text(i, montos[i] + max(montos)*0.01,\n",
        "             f\"{categorias[i]}\\n${montos[i]:,.0f}\",\n",
        "             ha='center', va='bottom')\n",
        "\n",
        "plt.tight_layout()\n",
        "plt.show()"
      ],
      "metadata": {
        "colab": {
          "base_uri": "https://localhost:8080/",
          "height": 579
        },
        "id": "RhsfCXjsrMCd",
        "outputId": "1dd190c8-8bbd-4463-d56d-ce61208f7917"
      },
      "execution_count": 120,
      "outputs": [
        {
          "output_type": "display_data",
          "data": {
            "text/plain": [
              "<Figure size 1000x600 with 1 Axes>"
            ],
            "image/png": "[encoded data removed]"
          },
          "metadata": {}
        }
      ]
    },
    {
      "cell_type": "markdown",
      "source": [
        "# 3. Calificación promedio de la tienda\n"
      ],
      "metadata": {
        "id": "Rq6tU_xSY3jk"
      }
    },
    {
      "cell_type": "code",
      "source": [
        "promedio_tienda1 = tienda1['Calificación'].mean()\n",
        "promedio_tienda2 = tienda2['Calificación'].mean()\n",
        "promedio_tienda3 = tienda3['Calificación'].mean()\n",
        "promedio_tienda4 = tienda4['Calificación'].mean()"
      ],
      "metadata": {
        "id": "bh3jjjJwY5MU"
      },
      "execution_count": 122,
      "outputs": []
    },
    {
      "cell_type": "code",
      "source": [
        "print(f'Promedio de calificación de cada tienda: \\nTienda 1: {promedio_tienda1}\\n \\nTienda 2: {promedio_tienda2}\\n \\nTienda 3: {promedio_tienda3}\\n \\nTienda 4: {promedio_tienda4}')\n"
      ],
      "metadata": {
        "id": "I0KkjPoTY88F",
        "colab": {
          "base_uri": "https://localhost:8080/"
        },
        "outputId": "35ccebb7-c637-435f-baa5-55f4afcd4852"
      },
      "execution_count": 173,
      "outputs": [
        {
          "output_type": "stream",
          "name": "stdout",
          "text": [
            "Promedio de calificación de cada tienda: \n",
            "Tienda 1: 3.976685036032217\n",
            " \n",
            "Tienda 2: 4.037303942348453\n",
            " \n",
            "Tienda 3: 4.048325561678677\n",
            " \n",
            "Tienda 4: 3.9957591178965224\n"
          ]
        }
      ]
    },
    {
      "cell_type": "markdown",
      "source": [
        "# 4. Productos más y menos vendidos"
      ],
      "metadata": {
        "id": "DmNp1KPBZCm-"
      }
    },
    {
      "cell_type": "code",
      "source": [
        "ventas_por_producto1 = tienda1.groupby('Producto')['Cantidad de cuotas'].sum()\n",
        "nombre_maximo1 = ventas_por_producto1.idxmax()\n",
        "cantidad_maximo1 = max(tienda1.groupby('Producto')['Cantidad de cuotas'].sum())\n",
        "\n",
        "nombre_minimo1 = ventas_por_producto1.idxmin()\n",
        "cantidad_minimo1 = min(tienda1.groupby('Producto')['Cantidad de cuotas'].sum())"
      ],
      "metadata": {
        "id": "qoyjqijQZHfF"
      },
      "execution_count": 171,
      "outputs": []
    },
    {
      "cell_type": "code",
      "source": [
        "ventas_por_producto2 = tienda2.groupby('Producto')['Cantidad de cuotas'].sum()\n",
        "\n",
        "nombre_maximo2 = ventas_por_producto2.idxmax()\n",
        "cantidad_maximo2 = max(tienda2.groupby('Producto')['Cantidad de cuotas'].sum())\n",
        "\n",
        "nombre_minimo2 = ventas_por_producto2.idxmin()\n",
        "cantidad_minimo2 = min(tienda2.groupby('Producto')['Cantidad de cuotas'].sum())"
      ],
      "metadata": {
        "id": "0Sw3sd4IZIGW"
      },
      "execution_count": 170,
      "outputs": []
    },
    {
      "cell_type": "code",
      "source": [
        "ventas_por_producto3 = tienda3.groupby('Producto')['Cantidad de cuotas'].sum()\n",
        "\n",
        "nombre_maximo3 = ventas_por_producto3.idxmax()\n",
        "cantidad_maximo3 = max(tienda3.groupby('Producto')['Cantidad de cuotas'].sum())\n",
        "\n",
        "nombre_minimo3 = ventas_por_producto3.idxmin()\n",
        "cantidad_minimo3 = min(tienda3.groupby('Producto')['Cantidad de cuotas'].sum())"
      ],
      "metadata": {
        "id": "sVAqTgZ-wiTM"
      },
      "execution_count": 169,
      "outputs": []
    },
    {
      "cell_type": "code",
      "source": [
        "ventas_por_producto4 = tienda4.groupby('Producto')['Cantidad de cuotas'].sum()\n",
        "\n",
        "nombre_maximo4 = ventas_por_producto4.idxmax()\n",
        "cantidad_maximo4 = max(tienda4.groupby('Producto')['Cantidad de cuotas'].sum())\n",
        "\n",
        "nombre_minimo4 = ventas_por_producto4.idxmin()\n",
        "cantidad_minimo4 = min(tienda4.groupby('Producto')['Cantidad de cuotas'].sum())"
      ],
      "metadata": {
        "id": "ov2AGqWPwiVU"
      },
      "execution_count": 168,
      "outputs": []
    },
    {
      "cell_type": "code",
      "source": [
        "print(f'Tienda 1: \\nProducto más vendido: {nombre_maximo1}: {cantidad_maximo1} \\nProducto menos vendido: {nombre_minimo1}: {cantidad_minimo1}')\n",
        "print(f'Tienda 2: \\nProducto más vendido: {nombre_maximo2}: {cantidad_maximo2} \\nProducto menos vendido: {nombre_minimo2}: {cantidad_minimo2}')\n",
        "print(f'Tienda 3: \\nProducto más vendido: {nombre_maximo3}: {cantidad_maximo3} \\nProducto menos vendido: {nombre_minimo3}: {cantidad_minimo3}')\n",
        "print(f'Tienda 4: \\nProducto más vendido: {nombre_maximo4}: {cantidad_maximo4} \\nProducto menos vendido: {nombre_minimo4}: {cantidad_minimo4}')"
      ],
      "metadata": {
        "colab": {
          "base_uri": "https://localhost:8080/"
        },
        "id": "3fpMCqk3winU",
        "outputId": "84ad5729-b506-4ccd-b09e-7a9dd3d9d657"
      },
      "execution_count": 172,
      "outputs": [
        {
          "output_type": "stream",
          "name": "stdout",
          "text": [
            "Tienda 1: \n",
            "Producto más vendido: Secadora de ropa: 214 \n",
            "Producto menos vendido: Celular ABXY: 78\n",
            "Tienda 2: \n",
            "Producto más vendido: Iniciando en programación: 223 \n",
            "Producto menos vendido: Mesa de comedor: 89\n",
            "Tienda 3: \n",
            "Producto más vendido: Bicicleta: 191 \n",
            "Producto menos vendido: TV LED UHD 4K: 94\n",
            "Tienda 4: \n",
            "Producto más vendido: Dashboards con Power BI: 196 \n",
            "Producto menos vendido: Armario: 88\n"
          ]
        }
      ]
    },
    {
      "cell_type": "code",
      "source": [
        "tiendas = ['Tienda 1', 'Tienda 2', 'Tienda 3', 'Tienda 4']\n",
        "nombre_maximos = [nombre_maximo1, nombre_maximo2, nombre_maximo3, nombre_maximo4]\n",
        "cantidad_maximos = [cantidad_maximo1, cantidad_maximo2, cantidad_maximo3, cantidad_maximo4]\n",
        "nombre_minimos = [nombre_minimo1, nombre_minimo2, nombre_minimo3, nombre_minimo4]\n",
        "cantidad_minimos = [cantidad_minimo1, cantidad_minimo2, cantidad_minimo3, cantidad_minimo4]\n"
      ],
      "metadata": {
        "id": "16PYmGqqx2V1"
      },
      "execution_count": 189,
      "outputs": []
    },
    {
      "cell_type": "code",
      "source": [
        "fig, ax = plt.subplots(figsize=(10, 6))\n",
        "\n",
        "# Gráfico lineal para el producto más vendido\n",
        "ax.plot(tiendas, cantidad_maximos, label='Producto más vendido', color='green', marker='o', linestyle='-', linewidth=2)\n",
        "\n",
        "# Gráfico lineal para el producto menos vendido\n",
        "ax.plot(tiendas, cantidad_minimos, label='Producto menos vendido', color='red', marker='o', linestyle='-', linewidth=2)\n",
        "\n",
        "# Etiquetas y título\n",
        "ax.set_xlabel('Tiendas')\n",
        "ax.set_ylabel('Cantidad de ventas')\n",
        "ax.set_title('Productos más y menos vendidos por tienda')\n",
        "ax.legend()\n",
        "\n",
        "# Mostrar los nombres de los productos y las cantidades en las líneas\n",
        "for i, tienda in enumerate(tiendas):\n",
        "    ax.text(tienda, cantidad_maximos[i] + 20, f'{nombre_maximos[i]}: {cantidad_maximos[i]}', ha='center', va='bottom', fontsize=10, color='green')\n",
        "    ax.text(tienda, cantidad_minimos[i] + 20, f'{nombre_minimos[i]}: {cantidad_minimos[i]}', ha='center', va='bottom', fontsize=10, color='red')\n",
        "\n",
        "plt.tight_layout()\n",
        "plt.show()"
      ],
      "metadata": {
        "colab": {
          "base_uri": "https://localhost:8080/",
          "height": 581
        },
        "id": "eJE7GdOtyAnl",
        "outputId": "37e6779d-23b1-49e3-e8e4-3c5e9e6c915d"
      },
      "execution_count": 191,
      "outputs": [
        {
          "output_type": "display_data",
          "data": {
            "text/plain": [
              "<Figure size 1000x600 with 1 Axes>"
            ],
            "image/png": "[encoded data removed]"
          },
          "metadata": {}
        }
      ]
    },
    {
      "cell_type": "markdown",
      "source": [
        "# 5. Envío promedio por tienda"
      ],
      "metadata": {
        "id": "Fl0cGi3bZKqU"
      }
    },
    {
      "cell_type": "code",
      "source": [
        "envio_tienda1 = tienda1['Costo de envío'].mean()\n",
        "envio_tienda2 = tienda2['Costo de envío'].mean()\n",
        "envio_tienda3 = tienda3['Costo de envío'].mean()\n",
        "envio_tienda4 = tienda4['Costo de envío'].mean()\n"
      ],
      "metadata": {
        "id": "S2JeaCykZNy9"
      },
      "execution_count": 177,
      "outputs": []
    },
    {
      "cell_type": "code",
      "source": [
        "print(f'Promedio de calificación de cada tienda: \\nTienda 1: {envio_tienda1}\\n \\nTienda 2: {envio_tienda2}\\n \\nTienda 3: {envio_tienda3}\\n \\nTienda 4: {envio_tienda4}')\n"
      ],
      "metadata": {
        "id": "0tSdCie9ZQlt",
        "colab": {
          "base_uri": "https://localhost:8080/"
        },
        "outputId": "cd5ceae9-d2b6-46a1-e7b1-aa8bf1e79c21"
      },
      "execution_count": 178,
      "outputs": [
        {
          "output_type": "stream",
          "name": "stdout",
          "text": [
            "Promedio de costos de envio de cada tienda: \n",
            "Tienda 1: 26018.60958033065\n",
            " \n",
            "Tienda 2: 25216.235693090293\n",
            " \n",
            "Tienda 3: 24805.680373039424\n",
            " \n",
            "Tienda 4: 23459.457167090754\n"
          ]
        }
      ]
    },
    {
      "cell_type": "markdown",
      "source": [
        "Según el análisis anteriormente realizado, la Tienda 4 es la que presenta los menores ingresos totales, si bien su calificación promedio de los clientes es buena siendo un 3.99, es inferior a las tiendas 2 (4.03) y 3 (4.04).pese a que la tienda 4 tiene un costo promedio de envio más bajo podria ser una ventaja para atraer compradores pero su bajo volumen de ingresos demuestra lo contrario. Por lo tanto le aconsejo al Sr.Juan le aconsejaria considerar vender la tienda 4."
      ],
      "metadata": {
        "id": "Q2KWOmL23429"
      }
    }
  ]
}
